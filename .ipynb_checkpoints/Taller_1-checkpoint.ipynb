{
 "cells": [
  {
   "cell_type": "markdown",
   "metadata": {},
   "source": [
    "## 1.\n",
    "<img src=\"./images/dfa1c.png\" style=\"width: 600px\" align=\"center\"/>\n",
    "\n",
    "$DFA1 = \\left(Q , \\Sigma , \\delta , q_0 , F  \\right)$\n",
    "\n",
    "$Q = \\{ q_0 , q_1 , q_2 , q_3 , q_4 , q_5 , q_6 , q_7 , q_8 , q_9 , q_{10} , q_{11} ,q_{12} , q_{13} , q_{14} , q_{15} , q_{16} , q_{17} , q_{18} \\}$\n",
    "\n",
    "$\\Sigma = \\{ -,0,1,2,3,4,5,6,7,8,9 \\}$\n",
    "\n",
    "$q_0 = q_0$\n",
    "\n",
    "$F = \\{q_{17}\\}$\n",
    "\n",
    "#### δ: \n",
    "\n",
    "|   δ         |0,1,...,9|    -    |\n",
    "|:-----------:|:-------:|:------:|\n",
    "|--> $q_0    $|$q_1    $|$q_{18}$|\n",
    "|$q_1    $|$q_2    $|$q_{18}$|\n",
    "|$q_2    $|$q_3    $|$q_{18}$|\n",
    "|$q_3    $|$q_{18}$|$q_4    $|\n",
    "|$q_4    $|$q_5    $|$q_{18}$|\n",
    "|$q_5    $|$q_{18}$|$q_6    $|\n",
    "|$q_6    $|$q_7    $|$q_{18}$|\n",
    "|$q_7    $|$q_8    $|$q_{18}$|\n",
    "|$q_8    $|$q_{18}$|$q_9    $|\n",
    "|$q_9    $|$q_{10}$|$q_{18}$|\n",
    "|$q_{10}$|$q_{11}$|$q_{18}$|\n",
    "|$q_{11}$|$q_{12}$|$q_{18}$|\n",
    "|$q_{12}$|$q_{13}$|$q_{18}$|\n",
    "|$q_{13}$|$q_{14}$|$q_{18}$|\n",
    "|$q_{14}$|$q_{15}$|$q_{18}$|\n",
    "|$q_{15}$|$q_{18}$|$q_{16}$|\n",
    "|$q_{16}$|$q_{17}$|$q_{18}$|\n",
    "|$* q_{17}$|$q_{18}$|$q_{18}$|\n",
    "|$q_{18}$|$q_{18}$|$q_{18}$|\n",
    "\n",
    "\n",
    "\n",
    "\n"
   ]
  },
  {
   "cell_type": "code",
   "execution_count": 4,
   "metadata": {
    "collapsed": false
   },
   "outputs": [
    {
     "name": "stdout",
     "output_type": "stream",
     "text": [
      "Valido!\n",
      "No valido.\n"
     ]
    }
   ],
   "source": [
    "class DFA:\n",
    "    def __init__(self, estados, alfabeto, delta, inicial, finales):\n",
    "        self.estados = set(estados)\n",
    "        self.inicial = inicial\n",
    "        self.delta = delta\n",
    "        self.finales = set(finales)\n",
    "        self.alfabeto = set(alfabeto)\n",
    "        self.actual = inicial\n",
    "\n",
    "    def EvaluaSimbolo(self, simbolo):\n",
    "        self.actual = self.delta(self.actual, simbolo)\n",
    "\n",
    "    def EvaluaSecuenciaValida(self, secuencia):\n",
    "        for s in secuencia:\n",
    "            self.EvaluaSimbolo(s)\n",
    "        return (self.actual in self.finales)\n",
    "\n",
    "def GetDFA_ISBN():\n",
    "    estados = range(19)\n",
    "    alfabeto = range(11)\n",
    "    inicial = 0\n",
    "    finales = {13}\n",
    "    \n",
    "    tt = {}\n",
    "    for q in estados:\n",
    "        tt[q] = {}\n",
    "        for c in alfabeto:\n",
    "            tt[q][c] = q+1 if q < 14 else q\n",
    "    delta = lambda q, c: tt[q][c]\n",
    "    \n",
    "    return DFA(estados, alfabeto, delta, inicial, finales)\n",
    "\n",
    "\n",
    "myDFA = GetDFA_ISBN()\n",
    "\n",
    "ISBN = 3454332536452\n",
    "ISBN2 = 3454332536-4521\n",
    "secuencia = [int(i) for i in str(ISBN)]\n",
    "secuencia2 = [int(i) for i in str(ISBN2)]\n",
    "print(\"Valido!\" if myDFA.EvaluaSecuenciaValida(secuencia) else \"No valido.\")\n",
    "print(\"Valido!\" if myDFA.EvaluaSecuenciaValida(secuencia2) else \"No valido.\")\n"
   ]
  },
  {
   "cell_type": "markdown",
   "metadata": {},
   "source": [
    "## 2.\n",
    "\n",
    "<img src=\"./images/dfa2.png\" style=\"width: 600px\" align=\"center\"/>\n",
    "\n",
    "#### δ:\n",
    "\n",
    "|  δ |a  |  b|\n",
    "|---:|:---:|:---:|\n",
    "|-> * q0 |q1   | q4 |\n",
    "|* q1| q2  |  q4 |\n",
    "|* q2| q3  | q4 |\n",
    "|q3| q3  |  q3|\n",
    "|* q4| q1  | q5 |\n",
    "|* q5| q1  | q6 |\n",
    "|q6| q6  | q6 |\n",
    "\n",
    "\n",
    "\n",
    "$DFA2 = \\left(Q~,~\\Sigma~,~\\delta~,~q_0~,~F  \\right)$\n",
    "\n",
    "$Q = \\{ q_0 , q_1 , q_2 , q_3 , q_4 , q_5 , q_6 \\}$\n",
    "\n",
    "$\\Sigma = \\{ a , b \\}$\n",
    "\n",
    "\n",
    "$q_0 = q_0$\n",
    "\n",
    "$F = \\{q_0 , q_1 , q_2 , q_4 , q_5\\}$\n",
    "\n",
    "\n"
   ]
  },
  {
   "cell_type": "markdown",
   "metadata": {},
   "source": [
    "\n",
    "\n",
    "## 3.\n",
    "\n",
    "Teniendo el DFA $M$ definido tal que:<br />\n",
    "$M=\\left(Q , \\Sigma , \\delta , q_0 , F\\right)$.<br />\n",
    "Buscamos construir un DFA  $M'$ definido como:<br />\n",
    "$M'=\\left(Q , \\Sigma , \\delta , q_0 , F'\\right)$ donde $F'= F^C \\cap Q  $.\n",
    "\n",
    " Teniendo en cuenta que $u \\in \\Sigma^\\ast $ se sigue que si: $u \\in L(M)$ <br />\n",
    " Entonces por definición de $\\hat\\delta()$ tenemos que<br />\n",
    " $\\hat{\\delta}\\left(q_0,u\\right)\\in F$.<br />\n",
    "Y por lo tanto:<br />\n",
    " $\\hat{\\delta}(q_0,u)\\notin F^C \\cap Q \\,\\,\\,\\equiv\\,\\,\\, \\hat{\\delta}(q_0,u)\\notin F'$\n",
    " en consecuencia  $u \\notin L(M')$.<br />\n",
    "\n",
    "Por otro lado, si $u \\notin L(M)$<br />\n",
    "Entonces:<br /> \n",
    "$\\hat{\\delta}\\left(q_0,u\\right)\\notin F$. <br />\n",
    " Y por lo tanto:<br />\n",
    " $\\hat{\\delta}(q_0,u)\\in F^C \\cap Q \\,\\,\\,\\equiv\\,\\,\\, \\hat{\\delta}(q_0,u)\\in F'$\n",
    " en consecuencia $u \\in L(M')$.<br />\n",
    " \n",
    " Así tenemos que $u \\in L(M)$ si y solo si $u \\notin L(M')$.<br />"
   ]
  },
  {
   "cell_type": "markdown",
   "metadata": {},
   "source": [
    "## 5.\n",
    "\n",
    "<img src=\"./images/dfa5.png\" style=\"width: 600px\" align=\"center\"/>\n",
    "\n",
    "\n",
    "|       δ |       1  1 1      |         2         |         3         |\n",
    "|--------:|:-----------------:|:-----------------:|:-----------------:|\n",
    "| $q_{0}$ |    $\\{q_{1}\\}$    |    $\\{q_{2}\\}$    |    $\\{q_{3}\\}$    |\n",
    "| $q_{1}$ | $\\{q_{1},q_{6}\\}$ |    $\\{q_{2}\\}$    |    $\\{q_{3}\\}$    |\n",
    "| $q_{2}$ | $\\{q_{1},q_{2}\\}$ | $\\{q_{2},q_{5}\\}$ |    $\\{q_{3}\\}$    |\n",
    "| $q_{3}$ | $\\{q_{1},q_{3}\\}$ | $\\{q_{2},q_{3}\\}$ | $\\{q_{3},q_{4}\\}$ |\n",
    "| $q_{4}$ |      $ \\Phi $     |      $ \\Phi $     |      $ \\Phi $     |\n",
    "| $q_{5}$ |      $ \\Phi $     |      $ \\Phi $     |      $ \\Phi $     |\n",
    "| $q_{6}$ |      $ \\Phi $     |      $ \\Phi $     |      $ \\Phi $     |\n",
    "\n",
    "\n",
    "\n"
   ]
  },
  {
   "cell_type": "markdown",
   "metadata": {},
   "source": [
    "## 6.\n",
    "\n",
    "<img src=\"./images/dfa6.png\" style=\"width: 600px\" align=\"center\"/>"
   ]
  }
 ],
 "metadata": {
  "kernelspec": {
   "display_name": "Python 3",
   "language": "python",
   "name": "python3"
  },
  "language_info": {
   "codemirror_mode": {
    "name": "ipython",
    "version": 3
   },
   "file_extension": ".py",
   "mimetype": "text/x-python",
   "name": "python",
   "nbconvert_exporter": "python",
   "pygments_lexer": "ipython3",
   "version": "3.6.0"
  }
 },
 "nbformat": 4,
 "nbformat_minor": 2
}
