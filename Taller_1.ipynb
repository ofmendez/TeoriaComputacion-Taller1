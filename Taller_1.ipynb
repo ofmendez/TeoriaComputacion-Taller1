{
 "cells": [
  {
   "cell_type": "markdown",
   "metadata": {},
   "source": [
    "## 1.\n",
    "<img src=\"./images/dfa.png\" style=\"width: 600px\" align=\"right\"/>\n",
    "\n",
    "\n",
    "\n",
    "\n",
    "|  δ |0,1,...,9   |  \n",
    "|---:|:---:|\n",
    "|-> q0 |q1   |\n",
    "|q1| q2  |\n",
    "|q2| q3  |\n",
    "|q3| q4  |\n",
    "|q4| q5  |\n",
    "|q5| q6  |\n",
    "|q6| q7  |\n",
    "|q7| q8  |\n",
    "|q8| q9  |\n",
    "|q9|   q10|\n",
    "|q10| q11  |\n",
    "|q11| q12  |\n",
    "|q12| q13  |\n",
    "|* q13|  q14 |\n",
    "|q14|  q14|\n",
    "\n",
    "\n"
   ]
  },
  {
   "cell_type": "code",
   "execution_count": 12,
   "metadata": {
    "collapsed": false
   },
   "outputs": [
    {
     "name": "stdout",
     "output_type": "stream",
     "text": [
      "No valido.\n"
     ]
    }
   ],
   "source": [
    "class DFA:\n",
    "    def __init__(self, estados, alfabeto, delta, inicial, finales):\n",
    "        self.estados = set(estados)\n",
    "        self.inicial = inicial\n",
    "        self.delta = delta\n",
    "        self.finales = set(finales)\n",
    "        self.alfabeto = set(alfabeto)\n",
    "        self.actual = inicial\n",
    "\n",
    "    def EvaluaSimbolo(self, simbolo):\n",
    "        self.actual = self.delta(self.actual, simbolo)\n",
    "\n",
    "    def EvaluaSecuenciaValida(self, secuencia):\n",
    "        for s in secuencia:\n",
    "            self.EvaluaSimbolo(s)\n",
    "        return (self.actual in self.finales)\n",
    "\n",
    "def GetDFA_ISBN():\n",
    "    estados = range(15)\n",
    "    alfabeto = range(10)\n",
    "    inicial = 0\n",
    "    finales = {13}\n",
    "    \n",
    "    tt = {}\n",
    "    for q in estados:\n",
    "        tt[q] = {}\n",
    "        for c in alfabeto:\n",
    "            tt[q][c] = q+1 if q < 14 else q\n",
    "    delta = lambda q, c: tt[q][c]\n",
    "    \n",
    "    return DFA(estados, alfabeto, delta, inicial, finales)\n",
    "\n",
    "\n",
    "myDFA = GetDFA_ISBN()\n",
    "\n",
    "ISBN = 34543325364521\n",
    "\n",
    "secuencia = [int(i) for i in str(ISBN)]\n",
    "\n",
    "print(\"Valido!\" if myDFA.EvaluaSecuenciaValida(secuencia) else \"No valido.\")"
   ]
  },
  {
   "cell_type": "markdown",
   "metadata": {},
   "source": [
    "# 2\n",
    "<img src=\"./images/dfa2.png\" style=\"width: 600px\" align=\"right\"/>\n",
    "\n",
    "\n",
    "|  δ |a  |  b|\n",
    "|---:|:---:|:---:|\n",
    "|-> * q0 |q1   | q4 |\n",
    "|* q1| q2  |  q4 |\n",
    "|* q2| q3  | q4 |\n",
    "|q3| q3  |  q3|\n",
    "|* q4| q1  | q5 |\n",
    "|* q5| q1  | q6 |\n",
    "|q6| q6  | q6 |\n",
    "\n",
    "FFA = (Q,Σ,δ,q0,F}\n",
    "\n",
    "Q = {q0, q1, q2, q3, q4 ,q5, q6}\n",
    "\n",
    "Σ = {a, b}\n",
    "\n",
    "q0 = q0\n",
    "\n",
    "F = {q0, q1, q2, q4, q5}\n",
    "\n",
    "\n"
   ]
  }
 ],
 "metadata": {
  "kernelspec": {
   "display_name": "Python 3",
   "language": "python",
   "name": "python3"
  },
  "language_info": {
   "codemirror_mode": {
    "name": "ipython",
    "version": 3
   },
   "file_extension": ".py",
   "mimetype": "text/x-python",
   "name": "python",
   "nbconvert_exporter": "python",
   "pygments_lexer": "ipython3",
   "version": "3.6.0"
  }
 },
 "nbformat": 4,
 "nbformat_minor": 2
}
